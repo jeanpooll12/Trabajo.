{
  "nbformat": 4,
  "nbformat_minor": 0,
  "metadata": {
    "colab": {
      "provenance": [],
      "authorship_tag": "ABX9TyOB7Px8S34biIPsOVAMxnXZ",
      "include_colab_link": true
    },
    "kernelspec": {
      "name": "python3",
      "display_name": "Python 3"
    },
    "language_info": {
      "name": "python"
    }
  },
  "cells": [
    {
      "cell_type": "markdown",
      "metadata": {
        "id": "view-in-github",
        "colab_type": "text"
      },
      "source": [
        "<a href=\"https://colab.research.google.com/github/jeanpooll12/Trabajo./blob/main/encuentra_el_valor.ipynb\" target=\"_parent\"><img src=\"https://colab.research.google.com/assets/colab-badge.svg\" alt=\"Open In Colab\"/></a>"
      ]
    },
    {
      "cell_type": "markdown",
      "source": [
        "## Matrix de busqueda de numeros\n",
        "\n",
        " **Fecha:** _15 de abril de 2024_\n",
        "\n",
        " **Presentado por:** _Jean Pooll Noriega Navas_\n",
        "\n",
        " **Email:** jean.noriegan@upb.edu.co\n"
      ],
      "metadata": {
        "id": "YqWpXKAcynq9"
      }
    },
    {
      "cell_type": "code",
      "source": [
        "import random\n",
        "import string\n",
        "import time\n",
        "from IPython.display import clear_output\n",
        "\n",
        "def generate_matrix(n):\n",
        "    valors = list(string.ascii_letters + string.digits + \"@#$\") * (n * n // 4)\n",
        "    random.shuffle(valors)\n",
        "    return [[random.choice(valors) for _ in range(n)] for _ in range(n)]\n",
        "\n",
        "def display_matrix(matrix):\n",
        "    print(\"\\n\".join(\" \".join(row) for row in matrix))\n",
        "\n",
        "def hide_valor(matrix, valor):\n",
        "    for row in matrix:\n",
        "        if valor in row:\n",
        "            row[row.index(valor)] = \"*\"\n",
        "            break\n",
        "\n",
        "def reveal_valor(matrix, valor):\n",
        "    for row in matrix:\n",
        "        if \"*\" in row:\n",
        "            row[row.index(\"*\")] = valor\n",
        "\n",
        "def get_time_limit(n):\n",
        "    return max(3, 3 + 0.5 * (n - 3))\n",
        "\n",
        "def play_game():\n",
        "    n = int(input(\"el tamaño de la cuadrícula sera de (n*n): \"))\n",
        "    matrix = generate_matrix(n)\n",
        "\n",
        "    print(\"Valores recordados\\n\")\n",
        "    display_matrix(matrix)\n",
        "    time_limit = get_time_limit(n)\n",
        "    time.sleep(time_limit)\n",
        "    clear_output(wait=True)\n",
        "    hidden_valor = random.choice(matrix[0])\n",
        "    hide_valor(matrix, hidden_valor)\n",
        "\n",
        "    print(\"\\nEncuentra el valor oculto:\\n\")\n",
        "    display_matrix(matrix)\n",
        "    guess = input(\"\\nrspuesta dada: \")\n",
        "    reveal_valor(matrix, hidden_valor)\n",
        "    print(\"¡Correcto! Has encontrado el valor oculto.\" if guess == hidden_valor else f\"Incorrecto. El valor era {hidden_valor}.\")\n",
        "\n",
        "def main():\n",
        "    while True:\n",
        "        play_game()\n",
        "        if input(\"¿quieres volver a jugar? (s/n): \").lower() != \"s\":\n",
        "            break\n",
        "\n",
        "if __name__ == \"__main__\":\n",
        "    main()"
      ],
      "metadata": {
        "id": "XUhvxFw9sqsS"
      },
      "execution_count": null,
      "outputs": []
    }
  ]
}